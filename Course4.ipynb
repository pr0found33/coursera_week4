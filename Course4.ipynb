{
 "cells": [
  {
   "cell_type": "markdown",
   "id": "914df922",
   "metadata": {},
   "source": [
    "I put this on github because of IBM Cloud account creation errors."
   ]
  },
  {
   "cell_type": "markdown",
   "id": "7589696b",
   "metadata": {},
   "source": [
    "<H1> My Jupyter Notebook on IBM Watson Studio(Github due to tech issues)</H1>"
   ]
  },
  {
   "cell_type": "markdown",
   "id": "37d7c062",
   "metadata": {},
   "source": [
    "<b> James D. Ford III</b>"
   ]
  },
  {
   "cell_type": "markdown",
   "id": "eef224d0",
   "metadata": {},
   "source": [
    "Day Trader"
   ]
  },
  {
   "cell_type": "markdown",
   "id": "0b11c038",
   "metadata": {},
   "source": [
    "<em> I am interested in data science because I find it fascinating and it is the way I naturally do things, I analyze and assess,</em>"
   ]
  },
  {
   "cell_type": "markdown",
   "id": "adf1869b",
   "metadata": {},
   "source": [
    "<H3> I will do a simple math problem of 10 + 12 and print the solution</H3>"
   ]
  },
  {
   "cell_type": "code",
   "execution_count": 3,
   "id": "9cd2af0c",
   "metadata": {},
   "outputs": [
    {
     "data": {
      "text/plain": [
       "22"
      ]
     },
     "execution_count": 3,
     "metadata": {},
     "output_type": "execute_result"
    }
   ],
   "source": [
    "10 + 12"
   ]
  },
  {
   "cell_type": "markdown",
   "id": "74bb6d01",
   "metadata": {},
   "source": [
    "Shopping:\n",
    "* eggs\n",
    "* bacon\n",
    "* bread\n",
    "\n",
    "1. black\n",
    "1. blue\n",
    "1. purple\n",
    "\n",
    "<a href=\"https://www.google.com\">Google</a>\n",
    "\n",
    "\n"
   ]
  },
  {
   "cell_type": "code",
   "execution_count": null,
   "id": "5c6acedd",
   "metadata": {},
   "outputs": [],
   "source": []
  }
 ],
 "metadata": {
  "kernelspec": {
   "display_name": "Python 3",
   "language": "python",
   "name": "python3"
  },
  "language_info": {
   "codemirror_mode": {
    "name": "ipython",
    "version": 3
   },
   "file_extension": ".py",
   "mimetype": "text/x-python",
   "name": "python",
   "nbconvert_exporter": "python",
   "pygments_lexer": "ipython3",
   "version": "3.8.8"
  }
 },
 "nbformat": 4,
 "nbformat_minor": 5
}
